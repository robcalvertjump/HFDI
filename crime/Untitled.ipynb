{
 "cells": [
  {
   "cell_type": "code",
   "execution_count": 1,
   "metadata": {},
   "outputs": [],
   "source": [
    "import pandas as pd\n",
    "import numpy as np\n",
    "import matplotlib.pyplot as plt\n",
    "from pathlib import Path\n",
    "from datetime import datetime"
   ]
  },
  {
   "cell_type": "code",
   "execution_count": 2,
   "metadata": {},
   "outputs": [],
   "source": [
    "crime_data_path = 'data/crime'\n",
    "\n",
    "crime_data_paths = list(Path(crime_data_path).glob('*'))"
   ]
  },
  {
   "cell_type": "code",
   "execution_count": 3,
   "metadata": {},
   "outputs": [],
   "source": [
    "def get_street_data(year, month):\n",
    "    \"\"\"Gets all street data in a given year and month. It concatenates the data for all forces.\"\"\"\n",
    "    \n",
    "    ym_data_path = Path(crime_data_path, '%s-%02d' % (year, month))\n",
    "    \n",
    "    data_frames = []\n",
    "    \n",
    "    for file_path in ym_data_path.glob('*'):\n",
    "        if file_path.stem.endswith('street'):\n",
    "            df = pd.read_csv(file_path)\n",
    "            data_frames.append(df)\n",
    "    \n",
    "    df_total = pd.concat(data_frames).reset_index(drop=True)\n",
    "            \n",
    "    return df_total\n",
    "\n",
    "def get_street_data_from_to(from_y, from_m, to_y, to_m):\n",
    "    \"\"\"Gets all street data from a given year and month to a given year and month.\"\"\"\n",
    "    \n",
    "    from_date = datetime.strptime('%s-%02d' % (from_y, from_m), '%Y-%m')\n",
    "    to_date = datetime.strptime('%s-%02d' % (to_y, to_m), '%Y-%m')\n",
    "    \n",
    "    data_frames = []\n",
    "    \n",
    "    for ym_data_path in crime_data_paths:\n",
    "        crime_data_date = datetime.strptime(ym_data_path.stem, '%Y-%m')\n",
    "        \n",
    "        if crime_data_date >= from_date and crime_data_date <= to_date:\n",
    "            df = get_street_data(crime_data_date.year, crime_data_date.month)\n",
    "            data_frames.append(df)\n",
    "            \n",
    "    df_total = pd.concat(data_frames).reset_index(drop=True)\n",
    "    return df_total"
   ]
  },
  {
   "cell_type": "code",
   "execution_count": 4,
   "metadata": {},
   "outputs": [
    {
     "ename": "ValueError",
     "evalue": "unconverted data remains: 6",
     "output_type": "error",
     "traceback": [
      "\u001b[0;31m---------------------------------------------------------------------------\u001b[0m",
      "\u001b[0;31mValueError\u001b[0m                                Traceback (most recent call last)",
      "\u001b[0;32m<ipython-input-4-259a013268d5>\u001b[0m in \u001b[0;36m<module>\u001b[0;34m\u001b[0m\n\u001b[1;32m      1\u001b[0m \u001b[0mstreet_data_2015\u001b[0m \u001b[0;34m=\u001b[0m \u001b[0mget_street_data_from_to\u001b[0m\u001b[0;34m(\u001b[0m\u001b[0;36m2013\u001b[0m\u001b[0;34m,\u001b[0m \u001b[0;36m1\u001b[0m\u001b[0;34m,\u001b[0m \u001b[0;36m2014\u001b[0m\u001b[0;34m,\u001b[0m \u001b[0;36m12\u001b[0m\u001b[0;34m)\u001b[0m\u001b[0;34m\u001b[0m\u001b[0;34m\u001b[0m\u001b[0m\n\u001b[0;32m----> 2\u001b[0;31m \u001b[0mstreet_data_2016_18\u001b[0m \u001b[0;34m=\u001b[0m \u001b[0mget_street_data_from_to\u001b[0m\u001b[0;34m(\u001b[0m\u001b[0;36m2016\u001b[0m\u001b[0;34m,\u001b[0m \u001b[0;36m6\u001b[0m\u001b[0;34m,\u001b[0m \u001b[0;36m2018\u001b[0m\u001b[0;34m,\u001b[0m \u001b[0;36m16\u001b[0m\u001b[0;34m)\u001b[0m\u001b[0;34m\u001b[0m\u001b[0;34m\u001b[0m\u001b[0m\n\u001b[0m\u001b[1;32m      3\u001b[0m \u001b[0mIMD15\u001b[0m \u001b[0;34m=\u001b[0m \u001b[0mpd\u001b[0m\u001b[0;34m.\u001b[0m\u001b[0mread_csv\u001b[0m\u001b[0;34m(\u001b[0m\u001b[0;34m'data/IMD_LSOA_2015.csv'\u001b[0m\u001b[0;34m)\u001b[0m\u001b[0;34m\u001b[0m\u001b[0;34m\u001b[0m\u001b[0m\n\u001b[1;32m      4\u001b[0m \u001b[0mIMD15\u001b[0m \u001b[0;34m=\u001b[0m \u001b[0mpd\u001b[0m\u001b[0;34m.\u001b[0m\u001b[0mread_csv\u001b[0m\u001b[0;34m(\u001b[0m\u001b[0;34m'data/IMD_LSOA_2019.csv'\u001b[0m\u001b[0;34m)\u001b[0m\u001b[0;34m\u001b[0m\u001b[0;34m\u001b[0m\u001b[0m\n\u001b[1;32m      5\u001b[0m \u001b[0mLSOA_pops\u001b[0m \u001b[0;34m=\u001b[0m \u001b[0mpd\u001b[0m\u001b[0;34m.\u001b[0m\u001b[0mread_excel\u001b[0m\u001b[0;34m(\u001b[0m\u001b[0;34m'data/LSOA_populations_2012.xlsx'\u001b[0m\u001b[0;34m,\u001b[0m \u001b[0msheet_name\u001b[0m\u001b[0;34m=\u001b[0m\u001b[0;34m'Population Denominators'\u001b[0m\u001b[0;34m)\u001b[0m\u001b[0;34m\u001b[0m\u001b[0;34m\u001b[0m\u001b[0m\n",
      "\u001b[0;32m<ipython-input-3-4b56a1eebac9>\u001b[0m in \u001b[0;36mget_street_data_from_to\u001b[0;34m(from_y, from_m, to_y, to_m)\u001b[0m\n\u001b[1;32m     19\u001b[0m \u001b[0;34m\u001b[0m\u001b[0m\n\u001b[1;32m     20\u001b[0m     \u001b[0mfrom_date\u001b[0m \u001b[0;34m=\u001b[0m \u001b[0mdatetime\u001b[0m\u001b[0;34m.\u001b[0m\u001b[0mstrptime\u001b[0m\u001b[0;34m(\u001b[0m\u001b[0;34m'%s-%02d'\u001b[0m \u001b[0;34m%\u001b[0m \u001b[0;34m(\u001b[0m\u001b[0mfrom_y\u001b[0m\u001b[0;34m,\u001b[0m \u001b[0mfrom_m\u001b[0m\u001b[0;34m)\u001b[0m\u001b[0;34m,\u001b[0m \u001b[0;34m'%Y-%m'\u001b[0m\u001b[0;34m)\u001b[0m\u001b[0;34m\u001b[0m\u001b[0;34m\u001b[0m\u001b[0m\n\u001b[0;32m---> 21\u001b[0;31m     \u001b[0mto_date\u001b[0m \u001b[0;34m=\u001b[0m \u001b[0mdatetime\u001b[0m\u001b[0;34m.\u001b[0m\u001b[0mstrptime\u001b[0m\u001b[0;34m(\u001b[0m\u001b[0;34m'%s-%02d'\u001b[0m \u001b[0;34m%\u001b[0m \u001b[0;34m(\u001b[0m\u001b[0mto_y\u001b[0m\u001b[0;34m,\u001b[0m \u001b[0mto_m\u001b[0m\u001b[0;34m)\u001b[0m\u001b[0;34m,\u001b[0m \u001b[0;34m'%Y-%m'\u001b[0m\u001b[0;34m)\u001b[0m\u001b[0;34m\u001b[0m\u001b[0;34m\u001b[0m\u001b[0m\n\u001b[0m\u001b[1;32m     22\u001b[0m \u001b[0;34m\u001b[0m\u001b[0m\n\u001b[1;32m     23\u001b[0m     \u001b[0mdata_frames\u001b[0m \u001b[0;34m=\u001b[0m \u001b[0;34m[\u001b[0m\u001b[0;34m]\u001b[0m\u001b[0;34m\u001b[0m\u001b[0;34m\u001b[0m\u001b[0m\n",
      "\u001b[0;32m~/anaconda3/lib/python3.7/_strptime.py\u001b[0m in \u001b[0;36m_strptime_datetime\u001b[0;34m(cls, data_string, format)\u001b[0m\n\u001b[1;32m    575\u001b[0m     \"\"\"Return a class cls instance based on the input string and the\n\u001b[1;32m    576\u001b[0m     format string.\"\"\"\n\u001b[0;32m--> 577\u001b[0;31m     \u001b[0mtt\u001b[0m\u001b[0;34m,\u001b[0m \u001b[0mfraction\u001b[0m\u001b[0;34m,\u001b[0m \u001b[0mgmtoff_fraction\u001b[0m \u001b[0;34m=\u001b[0m \u001b[0m_strptime\u001b[0m\u001b[0;34m(\u001b[0m\u001b[0mdata_string\u001b[0m\u001b[0;34m,\u001b[0m \u001b[0mformat\u001b[0m\u001b[0;34m)\u001b[0m\u001b[0;34m\u001b[0m\u001b[0;34m\u001b[0m\u001b[0m\n\u001b[0m\u001b[1;32m    578\u001b[0m     \u001b[0mtzname\u001b[0m\u001b[0;34m,\u001b[0m \u001b[0mgmtoff\u001b[0m \u001b[0;34m=\u001b[0m \u001b[0mtt\u001b[0m\u001b[0;34m[\u001b[0m\u001b[0;34m-\u001b[0m\u001b[0;36m2\u001b[0m\u001b[0;34m:\u001b[0m\u001b[0;34m]\u001b[0m\u001b[0;34m\u001b[0m\u001b[0;34m\u001b[0m\u001b[0m\n\u001b[1;32m    579\u001b[0m     \u001b[0margs\u001b[0m \u001b[0;34m=\u001b[0m \u001b[0mtt\u001b[0m\u001b[0;34m[\u001b[0m\u001b[0;34m:\u001b[0m\u001b[0;36m6\u001b[0m\u001b[0;34m]\u001b[0m \u001b[0;34m+\u001b[0m \u001b[0;34m(\u001b[0m\u001b[0mfraction\u001b[0m\u001b[0;34m,\u001b[0m\u001b[0;34m)\u001b[0m\u001b[0;34m\u001b[0m\u001b[0;34m\u001b[0m\u001b[0m\n",
      "\u001b[0;32m~/anaconda3/lib/python3.7/_strptime.py\u001b[0m in \u001b[0;36m_strptime\u001b[0;34m(data_string, format)\u001b[0m\n\u001b[1;32m    360\u001b[0m     \u001b[0;32mif\u001b[0m \u001b[0mlen\u001b[0m\u001b[0;34m(\u001b[0m\u001b[0mdata_string\u001b[0m\u001b[0;34m)\u001b[0m \u001b[0;34m!=\u001b[0m \u001b[0mfound\u001b[0m\u001b[0;34m.\u001b[0m\u001b[0mend\u001b[0m\u001b[0;34m(\u001b[0m\u001b[0;34m)\u001b[0m\u001b[0;34m:\u001b[0m\u001b[0;34m\u001b[0m\u001b[0;34m\u001b[0m\u001b[0m\n\u001b[1;32m    361\u001b[0m         raise ValueError(\"unconverted data remains: %s\" %\n\u001b[0;32m--> 362\u001b[0;31m                           data_string[found.end():])\n\u001b[0m\u001b[1;32m    363\u001b[0m \u001b[0;34m\u001b[0m\u001b[0m\n\u001b[1;32m    364\u001b[0m     \u001b[0miso_year\u001b[0m \u001b[0;34m=\u001b[0m \u001b[0myear\u001b[0m \u001b[0;34m=\u001b[0m \u001b[0;32mNone\u001b[0m\u001b[0;34m\u001b[0m\u001b[0;34m\u001b[0m\u001b[0m\n",
      "\u001b[0;31mValueError\u001b[0m: unconverted data remains: 6"
     ]
    }
   ],
   "source": [
    "street_data_2015 = get_street_data_from_to(2013, 1, 2014, 12)\n",
    "street_data_2016_18 = get_street_data_from_to(2016, 6, 2018, 16)\n",
    "IMD15 = pd.read_csv('data/IMD_LSOA_2015.csv')\n",
    "IMD15 = pd.read_csv('data/IMD_LSOA_2019.csv')\n",
    "LSOA_pops = pd.read_excel('data/LSOA_populations_2012.xlsx', sheet_name='Population Denominators')\n",
    "LSOA_workplace_pops = pd.read_csv('data/LSOA_workplace_population_2011.csv')"
   ]
  },
  {
   "cell_type": "code",
   "execution_count": null,
   "metadata": {},
   "outputs": [],
   "source": [
    "LSOA_workplace_pops"
   ]
  },
  {
   "cell_type": "code",
   "execution_count": null,
   "metadata": {},
   "outputs": [],
   "source": [
    "IMD15.columns"
   ]
  },
  {
   "cell_type": "code",
   "execution_count": null,
   "metadata": {},
   "outputs": [],
   "source": [
    "IMD15 = IMD15.sort_values(by='LSOA code (2011)').reset_index(drop=True)\n",
    "LSOA_pops = LSOA_pops.sort_values(by='LSOA code (2011)').reset_index(drop=True)\n",
    "LSOA_workplace_pops = LSOA_workplace_pops.sort_values(by='geography code').reset_index(drop=True)"
   ]
  },
  {
   "cell_type": "code",
   "execution_count": null,
   "metadata": {},
   "outputs": [],
   "source": [
    "LSOA_workplace_pops = LSOA_workplace_pops[LSOA_workplace_pops['geography code'].str.startswith('E')]\n",
    "LSOA_workplace_pops = LSOA_workplace_pops.reset_index(drop=True)"
   ]
  },
  {
   "cell_type": "code",
   "execution_count": null,
   "metadata": {},
   "outputs": [],
   "source": [
    "# Clean crime data\n",
    "\n",
    "# Remove NaN LSOA entries\n",
    "na_mask = street_data_2015['LSOA code'].isna()\n",
    "street_data_2015 = street_data_2015[~na_mask]\n",
    "\n",
    "# Remove non-English crimes\n",
    "street_data_2015 = street_data_2015[street_data_2015['LSOA code'].str.startswith('E')]\n",
    "\n",
    "street_data_2015 = street_data_2015.reset_index(drop=True)"
   ]
  },
  {
   "cell_type": "code",
   "execution_count": null,
   "metadata": {},
   "outputs": [],
   "source": [
    "crime_types = list(set(street_data_2015['Crime type']))\n",
    "LSOAs = IMD15['LSOA code (2011)']"
   ]
  },
  {
   "cell_type": "code",
   "execution_count": null,
   "metadata": {},
   "outputs": [],
   "source": [
    "crimes_per_LSOA_dict = {}\n",
    "\n",
    "for LSOA in LSOAs:\n",
    "    crimes_per_LSOA_dict[LSOA] = np.zeros(len(crime_types), dtype=int)\n",
    "\n",
    "current_LSOA = street_data_2015.iloc[0,7]\n",
    "current_LSOA_data = crimes_per_LSOA_dict[current_LSOA]\n",
    "\n",
    "na_mask = street_data_2015['LSOA code'].isna()\n",
    "\n",
    "for row in street_data_2015[~na_mask].itertuples():\n",
    "    LSOA = row[8]\n",
    "    crime = row[10]\n",
    "    crime_i = crime_types.index(crime)\n",
    "    \n",
    "    if LSOA != current_LSOA:\n",
    "        current_LSOA = LSOA\n",
    "        current_LSOA_data = crimes_per_LSOA_dict[current_LSOA]\n",
    "    \n",
    "    current_LSOA_data[crime_i] += 1\n",
    "    \n",
    "rows = []\n",
    "\n",
    "for k, v in crimes_per_LSOA_dict.items():\n",
    "    rows.append([k] + list(v))\n",
    "\n",
    "crimes_per_LSOA = pd.DataFrame(rows)\n",
    "crimes_per_LSOA.columns = ['LSOA'] + crime_types\n",
    "crimes_per_LSOA = crimes_per_LSOA.sort_values(by='LSOA').reset_index(drop=True)\n",
    "\n",
    "crimes_per_LSOA.head()"
   ]
  },
  {
   "cell_type": "code",
   "execution_count": null,
   "metadata": {},
   "outputs": [],
   "source": [
    "crimes_rates_per_LSOA = crimes_per_LSOA.copy()\n",
    "crimes_rates_per_LSOA.loc[:, 'Violence and sexual offences':] = crimes_rates_per_LSOA.iloc[:,1:].divide(LSOA_pops.iloc[:,-1], axis=0)"
   ]
  },
  {
   "cell_type": "code",
   "execution_count": null,
   "metadata": {},
   "outputs": [],
   "source": [
    "crimes_rates_per_LSOA = crimes_per_LSOA.copy()\n",
    "crimes_rates_per_LSOA.loc[:, 'Violence and sexual offences':] = crimes_rates_per_LSOA.iloc[:,1:].divide(LSOA_pops['Total population: mid 2012 (excluding prisoners)'], axis=0)"
   ]
  },
  {
   "cell_type": "code",
   "execution_count": null,
   "metadata": {},
   "outputs": [],
   "source": []
  },
  {
   "cell_type": "code",
   "execution_count": null,
   "metadata": {},
   "outputs": [],
   "source": [
    "pops = LSOA_pops['Total population: mid 2012 (excluding prisoners)']\n",
    "pops += LSOA_workplace_pops['Population: All usual residents aged 16 to 74; measures: Value'] * (63.91 / 63.02)\n",
    "\n",
    "crimes_rates_per_LSOA = crimes_per_LSOA.copy()\n",
    "crimes_rates_per_LSOA.loc[:, 'Violence and sexual offences':] = crimes_rates_per_LSOA.iloc[:,1:].divide(pops, axis=0)"
   ]
  },
  {
   "cell_type": "code",
   "execution_count": null,
   "metadata": {},
   "outputs": [],
   "source": [
    "from sklearn.preprocessing import PolynomialFeatures\n",
    "from sklearn.pipeline import make_pipeline\n",
    "from sklearn.linear_model import LinearRegression\n",
    "\n",
    "y = IMD15['Crime Score']\n",
    "y = y\n",
    "X = np.array(crimes_rates_per_LSOA.iloc[:, 1:])\n",
    "#X = np.random.random(X.shape)\n",
    "\n",
    "X_train = X\n",
    "X_test = X\n",
    "y_train = y\n",
    "y_test = y\n",
    "\n",
    "degree=1\n",
    "\n",
    "polyreg=make_pipeline(PolynomialFeatures(degree),LinearRegression())\n",
    "\n",
    "polyreg.fit(X_train,y_train)\n",
    "\n",
    "y_pred = polyreg.predict(X_test)\n",
    "fig, ax = plt.subplots(figsize=(8,8))\n",
    "ax.plot(y_test, y_test, 'red')\n",
    "ax.scatter(y_test, y_pred, s=0.2)\n",
    "ax.set_xlabel('Data')\n",
    "ax.set_ylabel('Prediction')\n",
    "ax.set_title('2015 IMD Crime scores')\n",
    "\n",
    "ax.set_xlim(np.min(y_test), np.max(y_test))\n",
    "ax.set_ylim(np.min(y_test), np.max(y_test))\n",
    "\n",
    "plt.show()"
   ]
  },
  {
   "cell_type": "code",
   "execution_count": null,
   "metadata": {},
   "outputs": [],
   "source": [
    "d= np.array(y_pred_ranking) - np.array(y_test_ranking)\n",
    "\n",
    "np.mean(np.abs(d)), np.sqrt(np.mean(d**2))"
   ]
  },
  {
   "cell_type": "code",
   "execution_count": null,
   "metadata": {},
   "outputs": [],
   "source": [
    "sorted_y_pred = np.sort(y_pred)\n",
    "\n",
    "y_pred_ranking = []\n",
    "\n",
    "for y in y_pred:\n",
    "    y_pred_ranking.append(np.where(sorted_y_pred == y)[0][0])\n",
    "    \n",
    "    \n",
    "sorted_y_test= np.sort(y_test)\n",
    "\n",
    "y_test_ranking = []\n",
    "\n",
    "for y in y_test:\n",
    "    y_test_ranking.append(np.where(sorted_y_test == y)[0][0])\n",
    "    \n",
    "fig, ax = plt.subplots(figsize=(8,8))\n",
    "#ax.plot(sorted(y_test), sorted(y_test), 'red')\n",
    "ax.scatter(y_test_ranking, y_pred_ranking, s=1)\n",
    "ax.set_xlabel('Data')\n",
    "ax.set_ylabel('Prediction')\n",
    "ax.set_title('2015 IMD Crime ranking')\n",
    "\n",
    "plt.show()"
   ]
  },
  {
   "cell_type": "code",
   "execution_count": null,
   "metadata": {},
   "outputs": [],
   "source": [
    "from sklearn.preprocessing import PolynomialFeatures\n",
    "from sklearn.pipeline import make_pipeline\n",
    "from sklearn.linear_model import Ridge\n",
    "\n",
    "y = IMD15['Crime Score']\n",
    "y = y\n",
    "X = np.array(crimes_rates_per_LSOA.iloc[:, 1:])\n",
    "#X = np.random.random(X.shape)\n",
    "\n",
    "X_train = X\n",
    "X_test = X\n",
    "y_train = y\n",
    "y_test = y\n",
    "\n",
    "reg = Ridge(alpha=.5)\n",
    "reg.fit(X_train,y_train)\n",
    "\n",
    "y_pred = reg.predict(X_test)\n",
    "fig, ax = plt.subplots(figsize=(8,8))\n",
    "ax.plot(y_test, y_test, 'red')\n",
    "ax.scatter(y_test, y_pred)\n",
    "ax.set_xlabel('Data')\n",
    "ax.set_ylabel('Prediction')\n",
    "ax.set_title('2015 IMD Crime scores')\n",
    "\n",
    "ax.set_xlim(np.min(y_test), np.max(y_test))\n",
    "ax.set_ylim(np.min(y_test), np.max(y_test))\n",
    "\n",
    "plt.show()"
   ]
  },
  {
   "cell_type": "code",
   "execution_count": null,
   "metadata": {},
   "outputs": [],
   "source": [
    "from sklearn.preprocessing import PolynomialFeatures\n",
    "from sklearn.pipeline import make_pipeline\n",
    "from sklearn.linear_model import LinearRegression\n",
    "\n",
    "y = IMD15['Crime Score']\n",
    "y = np.exp(0.6*y)\n",
    "X = np.array(crimes_rates_per_LSOA.iloc[:, 1:])\n",
    "#X = np.random.random(X.shape)\n",
    "\n",
    "X_train = X\n",
    "X_test = X\n",
    "y_train = y\n",
    "y_test = y\n",
    "\n",
    "degree=1\n",
    "\n",
    "polyreg=make_pipeline(PolynomialFeatures(degree),LinearRegression())\n",
    "\n",
    "polyreg.fit(X_train,y_train)\n",
    "\n",
    "y_pred = polyreg.predict(X_test)\n",
    "fig, ax = plt.subplots(figsize=(8,8))\n",
    "ax.plot(sorted(y_test), sorted(y_test), 'red')\n",
    "ax.scatter(y_test, y_pred)\n",
    "ax.set_xlabel('Data')\n",
    "ax.set_ylabel('Prediction')\n",
    "ax.set_title('2015 IMD Crime scores')\n",
    "\n",
    "ax.set_xscale('log')\n",
    "ax.set_yscale('log')\n",
    "\n",
    "plt.show()"
   ]
  },
  {
   "cell_type": "code",
   "execution_count": null,
   "metadata": {},
   "outputs": [],
   "source": [
    "from sklearn.preprocessing import PolynomialFeatures\n",
    "from sklearn.pipeline import make_pipeline\n",
    "from sklearn.linear_model import LinearRegression\n",
    "\n",
    "y = IMD15['Crime Score']\n",
    "X = np.array(crimes_rates_per_LSOA.iloc[:, 1:])\n",
    "#X = np.random.random(X.shape)\n",
    "\n",
    "p_train = 0.3\n",
    "train_mask = np.random.choice([True, False], crimes_rates_per_LSOA.shape[0], replace=True, p=[p_train, 1-p_train])\n",
    "X_train = X[train_mask,:]\n",
    "X_test = X[~train_mask,:]\n",
    "y_train = y[train_mask]\n",
    "y_test = y[~train_mask]\n",
    "\n",
    "degree=3\n",
    "\n",
    "polyreg=make_pipeline(PolynomialFeatures(degree),LinearRegression())\n",
    "\n",
    "polyreg.fit(X_train,y_train)\n",
    "\n",
    "y_pred = polyreg.predict(X_test)\n",
    "fig, ax = plt.subplots(figsize=(8,8))\n",
    "ax.plot(y_test, y_test, 'red')\n",
    "ax.scatter(y_test, y_pred)\n",
    "ax.set_xlabel('Data')\n",
    "ax.set_ylabel('Prediction')\n",
    "ax.set_title('2015 IMD Crime scores')\n",
    "\n",
    "ax.set_xlim(np.min(y_test), np.max(y_test))\n",
    "ax.set_ylim(np.min(y_test), np.max(y_test))\n",
    "\n",
    "plt.show()"
   ]
  },
  {
   "cell_type": "code",
   "execution_count": null,
   "metadata": {},
   "outputs": [],
   "source": [
    "from sklearn.preprocessing import PolynomialFeatures\n",
    "from sklearn.pipeline import make_pipeline\n",
    "from sklearn.linear_model import LinearRegression\n",
    "\n",
    "y = IMD15['Crime Score']\n",
    "y = np.exp(1.3*y)\n",
    "X = np.array(crimes_rates_per_LSOA.iloc[:, 1:])\n",
    "#X = np.random.random(X.shape)\n",
    "\n",
    "p_train = 0.3\n",
    "train_mask = np.random.choice([True, False], crimes_rates_per_LSOA.shape[0], replace=True, p=[p_train, 1-p_train])\n",
    "X_train = X[train_mask,:]\n",
    "X_test = X[~train_mask,:]\n",
    "y_train = y[train_mask]\n",
    "y_test = y[~train_mask]\n",
    "\n",
    "degree=3\n",
    "\n",
    "polyreg=make_pipeline(PolynomialFeatures(degree),LinearRegression())\n",
    "\n",
    "polyreg.fit(X_train,y_train)\n",
    "\n",
    "y_pred = polyreg.predict(X_test)\n",
    "fig, ax = plt.subplots(figsize=(8,8))\n",
    "ax.plot(sorted(y_test), sorted(y_test), 'red')\n",
    "ax.scatter(y_test, y_pred, s=0.3)\n",
    "ax.set_xlabel('Data')\n",
    "ax.set_ylabel('Prediction')\n",
    "ax.set_title('2015 IMD Crime scores')\n",
    "\n",
    "ax.set_xscale('log')\n",
    "ax.set_yscale('log')\n",
    "\n",
    "ax.set_xlim(np.min(y_test), np.max(y_test))\n",
    "ax.set_ylim(np.min(y_test), np.max(y_test))\n",
    "\n",
    "plt.show()"
   ]
  },
  {
   "cell_type": "code",
   "execution_count": null,
   "metadata": {},
   "outputs": [],
   "source": [
    "kendle correlation"
   ]
  },
  {
   "cell_type": "code",
   "execution_count": null,
   "metadata": {},
   "outputs": [],
   "source": [
    "sorted_y_pred = np.sort(y_pred)\n",
    "\n",
    "y_pred_ranking = []\n",
    "\n",
    "for y in y_pred:\n",
    "    y_pred_ranking.append(np.where(sorted_y_pred == y)[0][0])\n",
    "    \n",
    "    \n",
    "sorted_y_test= np.sort(y_test)\n",
    "\n",
    "y_test_ranking = []\n",
    "\n",
    "for y in y_test:\n",
    "    y_test_ranking.append(np.where(sorted_y_test == y)[0][0])\n",
    "    \n",
    "fig, ax = plt.subplots(figsize=(8,8))\n",
    "#ax.plot(sorted(y_test), sorted(y_test), 'red')\n",
    "ax.scatter(y_test_ranking, y_pred_ranking, s=1)\n",
    "ax.set_xlabel('Data')\n",
    "ax.set_ylabel('Prediction')\n",
    "ax.set_title('2015 IMD Crime ranking')\n",
    "\n",
    "plt.show()"
   ]
  },
  {
   "cell_type": "code",
   "execution_count": null,
   "metadata": {},
   "outputs": [],
   "source": [
    "d= np.array(y_pred_ranking) - np.array(y_test_ranking)\n",
    "\n",
    "np.mean(np.abs(d)), np.sqrt(np.mean(d**2))"
   ]
  },
  {
   "cell_type": "markdown",
   "metadata": {},
   "source": [
    "Point 4.7.7 of [the IMD technical report](https://assets.publishing.service.gov.uk/government/uploads/system/uploads/attachment_data/file/464485/English_Indices_of_Deprivation_2015_-_Technical-Report.pdf) says that shrinkage was applied to the scores. Could this be the issue?"
   ]
  }
 ],
 "metadata": {
  "kernelspec": {
   "display_name": "Python 3",
   "language": "python",
   "name": "python3"
  },
  "language_info": {
   "codemirror_mode": {
    "name": "ipython",
    "version": 3
   },
   "file_extension": ".py",
   "mimetype": "text/x-python",
   "name": "python",
   "nbconvert_exporter": "python",
   "pygments_lexer": "ipython3",
   "version": "3.7.4"
  }
 },
 "nbformat": 4,
 "nbformat_minor": 2
}
