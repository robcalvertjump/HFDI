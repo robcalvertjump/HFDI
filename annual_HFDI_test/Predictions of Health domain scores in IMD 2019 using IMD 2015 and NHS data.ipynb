{
 "cells": [
  {
   "cell_type": "code",
   "execution_count": 1,
   "metadata": {},
   "outputs": [],
   "source": [
    "import pandas as pd\n",
    "import numpy as np\n",
    "import matplotlib.pyplot as plt"
   ]
  },
  {
   "cell_type": "markdown",
   "metadata": {},
   "source": [
    "We use NHS prevalance data on a Clinical Commissioning Group (CCG) level and the Health scores of the 2015 IMD to predict the health scores of the 2019 IMD."
   ]
  },
  {
   "cell_type": "markdown",
   "metadata": {},
   "source": [
    "## 1. Load data"
   ]
  },
  {
   "cell_type": "markdown",
   "metadata": {},
   "source": [
    "### 1.1 NHS Digital Quality and Outcomes Framework data\n",
    "\n",
    "[Source](https://digital.nhs.uk/data-and-information/publications/statistical/quality-and-outcomes-framework-achievement-prevalence-and-exceptions-data/quality-and-outcomes-framework-qof-2016-17)\n",
    "\n",
    "The NHS QOF data contains prevalencies of various disease groups (indicators) at a GP level. They also providethe aggregate data on a CCG level. We use the latter. "
   ]
  },
  {
   "cell_type": "markdown",
   "metadata": {},
   "source": [
    "Specify which indicators to use for the regression. AF = Atrial Filibration, DEP = Depression, etc."
   ]
  },
  {
   "cell_type": "code",
   "execution_count": 2,
   "metadata": {},
   "outputs": [],
   "source": [
    "# Skip BP and SMOK as they don't have prevalences\n",
    "indicators = ['AF', 'CHD', 'CVD-PP', 'HF', 'HYP', 'PAD', 'STIA', 'AST', 'COPD', 'OB', 'CAN', 'CKD', 'DM', 'PC', 'DEM', 'DEP', 'EP', 'LD', 'MH', 'OST', 'RA']"
   ]
  },
  {
   "cell_type": "markdown",
   "metadata": {},
   "source": [
    "Load the 2014-2015 data"
   ]
  },
  {
   "cell_type": "code",
   "execution_count": 3,
   "metadata": {},
   "outputs": [],
   "source": [
    "QOF_1415_AF = pd.read_excel('HFDI_data/qof-1415-ccg-all.xlsx', skiprows=12, header=[0, 1, 2], sheet_name='AF')\n",
    "CCG_pop13 = QOF_1415_AF['Prevalence']['2013-14']['List Size']\n",
    "CCG_pop14 = QOF_1415_AF['Prevalence']['2014-15']['List Size']\n",
    "CCG_codes13 = QOF_1415_AF['Unnamed: 10_level_0']['Unnamed: 10_level_1']['CCG Geography Code']\n",
    "CCG_codes14 = QOF_1415_AF['Unnamed: 10_level_0']['Unnamed: 10_level_1']['CCG Geography Code']\n",
    "\n",
    "afflicted13_data = {\n",
    "    'CCG Code' : CCG_codes13,\n",
    "    'Population' : CCG_pop13,\n",
    "}\n",
    "afflicted14_data = {\n",
    "    'CCG Code' : CCG_codes14,\n",
    "    'Population' : CCG_pop14,\n",
    "}\n",
    "prevalence13_data = {\n",
    "    'CCG Code' : CCG_codes13,\n",
    "    'Population' : CCG_pop13,\n",
    "}\n",
    "prevalence14_data = {\n",
    "    'CCG Code' : CCG_codes14,\n",
    "    'Population' : CCG_pop14,\n",
    "}\n",
    "\n",
    "for indicator in indicators:\n",
    "    df = pd.read_excel('HFDI_data/qof-1415-ccg-all.xlsx', skiprows=12, header=[0, 1, 2], sheet_name=indicator)\n",
    "\n",
    "    afflicted13_data[indicator] = df['Prevalence']['2013-14']['Register']\n",
    "    afflicted14_data[indicator] = df['Prevalence']['2014-15']['Register']\n",
    "    \n",
    "    prevalence13_data[indicator] = df['Prevalence']['2013-14']['Prevalence\\n(per cent)']\n",
    "    prevalence14_data[indicator] = df['Prevalence']['2014-15']['Prevalence\\n(per cent)']\n",
    "    \n",
    "afflicted13 = pd.DataFrame(afflicted13_data)\n",
    "afflicted14 = pd.DataFrame(afflicted14_data)\n",
    "prevalence13 = pd.DataFrame(prevalence13_data)\n",
    "prevalence14 = pd.DataFrame(prevalence14_data)"
   ]
  },
  {
   "cell_type": "markdown",
   "metadata": {},
   "source": [
    "Load the 2019-20 data"
   ]
  },
  {
   "cell_type": "code",
   "execution_count": 4,
   "metadata": {},
   "outputs": [],
   "source": [
    "year='2019-20'\n",
    "data_path = 'HFDI_data/qof-1920-prev-ach-pca-ccg.xlsx'\n",
    "\n",
    "QOF_1920_AF = pd.read_excel(data_path, skiprows=10, header=[0, 1, 3], sheet_name='AF')\n",
    "QOF_1920_AF = QOF_1920_AF.loc[:134,:]\n",
    "CCG_pop = QOF_1920_AF['_'][year]['List size']\n",
    "CCG_codes = QOF_1920_AF['Unnamed: 1_level_0']['Return to Contents']['CCG ONS code (practice parent)']\n",
    "\n",
    "afflicted_data = {\n",
    "    'CCG Code' : CCG_codes,\n",
    "    'Population' : CCG_pop,\n",
    "}\n",
    "prevalence_data = {\n",
    "    'CCG Code' : CCG_codes,\n",
    "    'Population' : CCG_pop,\n",
    "}\n",
    "\n",
    "for indicator in indicators:\n",
    "    df = pd.read_excel(data_path, skiprows=10, header=[0, 1, 3], sheet_name=indicator)\n",
    "    df = df.loc[:134,:]\n",
    "\n",
    "    afflicted_data[indicator] = df['_'][year]['Register']\n",
    "    prevalence_data[indicator] = df['_'][year]['Prevalence (%)']\n",
    "    \n",
    "afflicted19 = pd.DataFrame(afflicted_data)\n",
    "prevalence19 = pd.DataFrame(prevalence_data)"
   ]
  },
  {
   "cell_type": "markdown",
   "metadata": {},
   "source": [
    "### 1.2 IMD Health scores\n",
    "\n",
    "Load the 2015 and 2019 Health scores, averaged on a CCG level."
   ]
  },
  {
   "cell_type": "code",
   "execution_count": 5,
   "metadata": {},
   "outputs": [],
   "source": [
    "df_IMD15_health = pd.read_excel('IMD_data/IMD_CCG_2015.xlsx', sheet_name='Health')\n",
    "IMD15_health = df_IMD15_health[ ['Clinical Commissioning Group Code (2015)', 'Health Deprivation and Disability - Average score'] ]\n",
    "\n",
    "df_IMD19_health = pd.read_excel('IMD_data/IMD_CCG_2019.xlsx', sheet_name='Health')\n",
    "IMD19_health = df_IMD19_health[ ['Clinical Commissioning Group Code (2019)', 'Health Deprivation and Disability - Average score'] ]"
   ]
  },
  {
   "cell_type": "markdown",
   "metadata": {},
   "source": [
    "## 2. Predict the 2015 IMD using a subset of the data\n",
    "\n",
    "As a first exercise we do regression just within the 2015 data. We split the 2015 data into training and test subsets, and do regression on the former."
   ]
  },
  {
   "cell_type": "code",
   "execution_count": 6,
   "metadata": {},
   "outputs": [],
   "source": [
    "# Ensure that we only use CCG rows that both the IMD and the QOF share in common\n",
    "\n",
    "valid_CCG = set(prevalence13['CCG Code'])\n",
    "valid_CCG = list(valid_CCG.intersection( IMD15_health['Clinical Commissioning Group Code (2015)'] ))\n",
    "\n",
    "_IMD15_health = IMD15_health[IMD15_health['Clinical Commissioning Group Code (2015)'].isin(valid_CCG)]\n",
    "_prevalence13 = prevalence13[prevalence13['CCG Code'].isin(valid_CCG)];\n",
    "\n",
    "_IMD15_health = _IMD15_health.sort_values(by='Clinical Commissioning Group Code (2015)')\n",
    "_prevalence13 = _prevalence13.sort_values(by='CCG Code')"
   ]
  },
  {
   "cell_type": "code",
   "execution_count": 7,
   "metadata": {},
   "outputs": [
    {
     "data": {
      "image/png": "[encoded data removed]",
      "text/plain": [
       "<Figure size 576x576 with 1 Axes>"
      ]
     },
     "metadata": {
      "needs_background": "light"
     },
     "output_type": "display_data"
    }
   ],
   "source": [
    "from sklearn.preprocessing import PolynomialFeatures\n",
    "from sklearn.pipeline import make_pipeline\n",
    "from sklearn.linear_model import LinearRegression\n",
    "\n",
    "y = _IMD15_health.iloc[:,1]\n",
    "X = _prevalence13.loc[:, 'AF':]\n",
    "\n",
    "split_i = 50\n",
    "X_train = X.iloc[:split_i,:]\n",
    "X_test = X.iloc[split_i:,:]\n",
    "y_train = y[:split_i]\n",
    "y_test = y[split_i:]\n",
    "\n",
    "degree=1\n",
    "\n",
    "polyreg=make_pipeline(PolynomialFeatures(degree),LinearRegression())\n",
    "\n",
    "polyreg.fit(X_train,y_train)\n",
    "\n",
    "y_pred = polyreg.predict(X_test)\n",
    "fig, ax = plt.subplots(figsize=(8,8))\n",
    "ax.plot(y_pred, y_pred, 'red')\n",
    "ax.scatter(y_test, y_pred)\n",
    "ax.set_xlabel('Data')\n",
    "ax.set_ylabel('Prediction')\n",
    "ax.set_title('2015 IMD Health scores')\n",
    "plt.show()"
   ]
  },
  {
   "cell_type": "markdown",
   "metadata": {},
   "source": [
    "## 3. Predict the 2019 IMD from regression trained on 2015 IMD"
   ]
  },
  {
   "cell_type": "markdown",
   "metadata": {},
   "source": [
    "Fit the regression model on the 2015 IMD and QOF data"
   ]
  },
  {
   "cell_type": "code",
   "execution_count": 8,
   "metadata": {},
   "outputs": [
    {
     "data": {
      "text/plain": [
       "Pipeline(memory=None,\n",
       "         steps=[('polynomialfeatures',\n",
       "                 PolynomialFeatures(degree=1, include_bias=True,\n",
       "                                    interaction_only=False, order='C')),\n",
       "                ('linearregression',\n",
       "                 LinearRegression(copy_X=True, fit_intercept=True, n_jobs=None,\n",
       "                                  normalize=False))],\n",
       "         verbose=False)"
      ]
     },
     "execution_count": 8,
     "metadata": {},
     "output_type": "execute_result"
    }
   ],
   "source": [
    "from sklearn.preprocessing import PolynomialFeatures\n",
    "from sklearn.pipeline import make_pipeline\n",
    "from sklearn.linear_model import LinearRegression\n",
    "\n",
    "y = _IMD15_health.iloc[:,1]\n",
    "X = _prevalence13.loc[:, 'AF':]\n",
    "\n",
    "degree=1\n",
    "\n",
    "polyreg=make_pipeline(PolynomialFeatures(degree),LinearRegression())\n",
    "\n",
    "polyreg.fit(X, y)"
   ]
  },
  {
   "cell_type": "code",
   "execution_count": 9,
   "metadata": {},
   "outputs": [],
   "source": [
    "# Ensure that we only use CCG rows that both the IMD and the QOF share in common\n",
    "\n",
    "valid_CCG = set(prevalence19['CCG Code'])\n",
    "valid_CCG = list(valid_CCG.intersection( IMD19_health['Clinical Commissioning Group Code (2019)'] ))\n",
    "\n",
    "_IMD19_health = IMD19_health[IMD19_health['Clinical Commissioning Group Code (2019)'].isin(valid_CCG)]\n",
    "_prevalence19 = prevalence19[prevalence19['CCG Code'].isin(valid_CCG)];\n",
    "\n",
    "_IMD19_health = _IMD19_health.sort_values(by='Clinical Commissioning Group Code (2019)')\n",
    "_prevalence19 = _prevalence19.sort_values(by='CCG Code')"
   ]
  },
  {
   "cell_type": "code",
   "execution_count": 11,
   "metadata": {},
   "outputs": [
    {
     "data": {
      "image/png": "[encoded data removed]",
      "text/plain": [
       "<Figure size 576x576 with 1 Axes>"
      ]
     },
     "metadata": {
      "needs_background": "light"
     },
     "output_type": "display_data"
    }
   ],
   "source": [
    "y19 = _IMD19_health.iloc[:,1]\n",
    "X19 = _prevalence19.loc[:, 'AF':]\n",
    "\n",
    "y_pred19 = polyreg.predict(X19)\n",
    "\n",
    "fig, ax = plt.subplots(figsize=(8,8))\n",
    "ax.plot(np.sort(y19), np.sort(y19), 'red')\n",
    "ax.scatter(y19, y_pred19)\n",
    "ax.set_xlabel('Data')\n",
    "ax.set_ylabel('Prediction')\n",
    "ax.set_title('2019 IMD Health scores')\n",
    "plt.show()"
   ]
  }
 ],
 "metadata": {
  "kernelspec": {
   "display_name": "Python 3",
   "language": "python",
   "name": "python3"
  },
  "language_info": {
   "codemirror_mode": {
    "name": "ipython",
    "version": 3
   },
   "file_extension": ".py",
   "mimetype": "text/x-python",
   "name": "python",
   "nbconvert_exporter": "python",
   "pygments_lexer": "ipython3",
   "version": "3.7.4"
  }
 },
 "nbformat": 4,
 "nbformat_minor": 2
}
